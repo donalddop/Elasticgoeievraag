{
 "cells": [
  {
   "cell_type": "code",
   "execution_count": 3,
   "metadata": {
    "collapsed": true
   },
   "outputs": [],
   "source": [
    "import sys\n",
    "import json\n",
    "import pandas as pd\n",
    "import re\n",
    "import csv\n",
    "from elasticsearch import Elasticsearch, helpers"
   ]
  },
  {
   "cell_type": "code",
   "execution_count": 5,
   "metadata": {},
   "outputs": [],
   "source": [
    "# Get started with elasticsearch\n",
    "HOST = 'http://localhost:9200/'\n",
    "es = Elasticsearch(hosts=[HOST])\n",
    "# Check if elasticsearch is running\n",
    "#!curl \"http://localhost:9200/?pretty\""
   ]
  },
  {
   "cell_type": "code",
   "execution_count": 70,
   "metadata": {},
   "outputs": [
    {
     "data": {
      "text/html": [
       "<div>\n",
       "<style>\n",
       "    .dataframe thead tr:only-child th {\n",
       "        text-align: right;\n",
       "    }\n",
       "\n",
       "    .dataframe thead th {\n",
       "        text-align: left;\n",
       "    }\n",
       "\n",
       "    .dataframe tbody tr th {\n",
       "        vertical-align: top;\n",
       "    }\n",
       "</style>\n",
       "<table border=\"1\" class=\"dataframe\">\n",
       "  <thead>\n",
       "    <tr style=\"text-align: right;\">\n",
       "      <th></th>\n",
       "      <th>date</th>\n",
       "      <th>userId</th>\n",
       "      <th>categoryId</th>\n",
       "      <th>question</th>\n",
       "      <th>questionId</th>\n",
       "    </tr>\n",
       "    <tr>\n",
       "      <th>0</th>\n",
       "      <th></th>\n",
       "      <th></th>\n",
       "      <th></th>\n",
       "      <th></th>\n",
       "      <th></th>\n",
       "    </tr>\n",
       "  </thead>\n",
       "  <tbody>\n",
       "    <tr>\n",
       "      <th>1</th>\n",
       "      <td>2009-01-28 09:49:57</td>\n",
       "      <td>1</td>\n",
       "      <td>32</td>\n",
       "      <td>Kunnen we volgende week weer schaatsen op natu...</td>\n",
       "      <td>1</td>\n",
       "    </tr>\n",
       "    <tr>\n",
       "      <th>2</th>\n",
       "      <td>2009-01-29 09:32:04</td>\n",
       "      <td>1</td>\n",
       "      <td>69</td>\n",
       "      <td>Wat is het lekkerste recept voor boerenkool? -...</td>\n",
       "      <td>2</td>\n",
       "    </tr>\n",
       "    <tr>\n",
       "      <th>3</th>\n",
       "      <td>2009-01-29 11:06:20</td>\n",
       "      <td>2</td>\n",
       "      <td>18</td>\n",
       "      <td>Hoeveel kleuren heeft de regenboog? - nan</td>\n",
       "      <td>3</td>\n",
       "    </tr>\n",
       "    <tr>\n",
       "      <th>4</th>\n",
       "      <td>2009-01-29 12:37:05</td>\n",
       "      <td>1</td>\n",
       "      <td>60</td>\n",
       "      <td>Wat is de symbolische betekenis van de kip die...</td>\n",
       "      <td>4</td>\n",
       "    </tr>\n",
       "    <tr>\n",
       "      <th>5</th>\n",
       "      <td>2009-01-29 16:10:27</td>\n",
       "      <td>3</td>\n",
       "      <td>66</td>\n",
       "      <td>waar kan ik in amsterdam het best een dwerg ha...</td>\n",
       "      <td>5</td>\n",
       "    </tr>\n",
       "  </tbody>\n",
       "</table>\n",
       "</div>"
      ],
      "text/plain": [
       "                  date userId categoryId  \\\n",
       "0                                          \n",
       "1  2009-01-28 09:49:57      1         32   \n",
       "2  2009-01-29 09:32:04      1         69   \n",
       "3  2009-01-29 11:06:20      2         18   \n",
       "4  2009-01-29 12:37:05      1         60   \n",
       "5  2009-01-29 16:10:27      3         66   \n",
       "\n",
       "                                            question  questionId  \n",
       "0                                                                 \n",
       "1  Kunnen we volgende week weer schaatsen op natu...           1  \n",
       "2  Wat is het lekkerste recept voor boerenkool? -...           2  \n",
       "3          Hoeveel kleuren heeft de regenboog? - nan           3  \n",
       "4  Wat is de symbolische betekenis van de kip die...           4  \n",
       "5  waar kan ik in amsterdam het best een dwerg ha...           5  "
      ]
     },
     "execution_count": 70,
     "metadata": {},
     "output_type": "execute_result"
    }
   ],
   "source": [
    "# Preprocessing the questions\n",
    "qdf=pd.read_csv('questions.csv',error_bad_lines=False, warn_bad_lines=False , header=None, \n",
    "                index_col=0, parse_dates=[1],\n",
    "                    quotechar='\"', quoting=2)\n",
    "# Clean up\n",
    "# Drop lines in which the question field is empty\n",
    "qdf=qdf.dropna(subset=[4])  \n",
    "# Remove any bad indexes (containing letters)\n",
    "good_indexes = [key for key in qdf.index if re.search('[a-zA-Z]', key) == None]\n",
    "qdf = qdf.loc[good_indexes]\n",
    "# Change indexes to integers\n",
    "qdf.index=qdf.index.astype(int)\n",
    "# Change column names\n",
    "qdf.columns = ['date', 'userId', 'categoryId', 'question', 'description']\n",
    "# Add the questionId column\n",
    "qdf['questionId'] = qdf.index\n",
    "# Combine question and description fields\n",
    "qdf['question'] = qdf['question'].astype(str) + ' - ' + qdf['description'].astype(str)\n",
    "qdf = qdf.drop(['description'], axis=1)\n",
    "qdf['date'] = qdf['date'][:10]\n",
    "qdf.head()"
   ]
  },
  {
   "cell_type": "code",
   "execution_count": 17,
   "metadata": {},
   "outputs": [
    {
     "data": {
      "text/html": [
       "<div>\n",
       "<style>\n",
       "    .dataframe thead tr:only-child th {\n",
       "        text-align: right;\n",
       "    }\n",
       "\n",
       "    .dataframe thead th {\n",
       "        text-align: left;\n",
       "    }\n",
       "\n",
       "    .dataframe tbody tr th {\n",
       "        vertical-align: top;\n",
       "    }\n",
       "</style>\n",
       "<table border=\"1\" class=\"dataframe\">\n",
       "  <thead>\n",
       "    <tr style=\"text-align: right;\">\n",
       "      <th></th>\n",
       "      <th>date</th>\n",
       "      <th>userId</th>\n",
       "      <th>question</th>\n",
       "      <th>questionId</th>\n",
       "      <th>category</th>\n",
       "    </tr>\n",
       "    <tr>\n",
       "      <th>0</th>\n",
       "      <th></th>\n",
       "      <th></th>\n",
       "      <th></th>\n",
       "      <th></th>\n",
       "      <th></th>\n",
       "    </tr>\n",
       "  </thead>\n",
       "  <tbody>\n",
       "    <tr>\n",
       "      <th>1</th>\n",
       "      <td>2009-01-28 09:49:57</td>\n",
       "      <td>1</td>\n",
       "      <td>Kunnen we volgende week weer schaatsen op natu...</td>\n",
       "      <td>1</td>\n",
       "      <td>Sport, Spel &amp; Recreatie - Sporten</td>\n",
       "    </tr>\n",
       "    <tr>\n",
       "      <th>2</th>\n",
       "      <td>2009-01-29 09:32:04</td>\n",
       "      <td>1</td>\n",
       "      <td>Wat is het lekkerste recept voor boerenkool? -...</td>\n",
       "      <td>2</td>\n",
       "      <td>Eten &amp; Drinken - Koken &amp; Recepten</td>\n",
       "    </tr>\n",
       "    <tr>\n",
       "      <th>3</th>\n",
       "      <td>2009-01-29 11:06:20</td>\n",
       "      <td>2</td>\n",
       "      <td>Hoeveel kleuren heeft de regenboog? - nan</td>\n",
       "      <td>3</td>\n",
       "      <td>Wetenschap - Natuur- en scheikunde</td>\n",
       "    </tr>\n",
       "    <tr>\n",
       "      <th>4</th>\n",
       "      <td>2009-01-29 12:37:05</td>\n",
       "      <td>1</td>\n",
       "      <td>Wat is de symbolische betekenis van de kip die...</td>\n",
       "      <td>4</td>\n",
       "      <td>Kunst &amp; Cultuur - Beeldende kunst</td>\n",
       "    </tr>\n",
       "    <tr>\n",
       "      <th>5</th>\n",
       "      <td>2009-01-29 16:10:27</td>\n",
       "      <td>3</td>\n",
       "      <td>waar kan ik in amsterdam het best een dwerg ha...</td>\n",
       "      <td>5</td>\n",
       "      <td>Huis &amp; Tuin - Huisdieren</td>\n",
       "    </tr>\n",
       "    <tr>\n",
       "      <th>6</th>\n",
       "      <td>2009-01-29 16:14:38</td>\n",
       "      <td>6</td>\n",
       "      <td>Waarom zie je nooit babyduifjes? - nan</td>\n",
       "      <td>6</td>\n",
       "      <td>Huis &amp; Tuin - Overig</td>\n",
       "    </tr>\n",
       "    <tr>\n",
       "      <th>7</th>\n",
       "      <td>2009-01-29 16:16:55</td>\n",
       "      <td>7</td>\n",
       "      <td>Hoe krijg je een weggelopen konijn (ontsnapt) ...</td>\n",
       "      <td>7</td>\n",
       "      <td>Alle categorieën - Overig</td>\n",
       "    </tr>\n",
       "    <tr>\n",
       "      <th>8</th>\n",
       "      <td>2009-01-29 16:17:33</td>\n",
       "      <td>4</td>\n",
       "      <td>Wat is het synoniem voor synoniem ? - nan</td>\n",
       "      <td>8</td>\n",
       "      <td>Alle categorieën - Overig</td>\n",
       "    </tr>\n",
       "    <tr>\n",
       "      <th>9</th>\n",
       "      <td>2009-01-29 16:17:46</td>\n",
       "      <td>5</td>\n",
       "      <td>wat s de reden dat vogels niet vastvriezen aan...</td>\n",
       "      <td>9</td>\n",
       "      <td>Wetenschap - Biologie</td>\n",
       "    </tr>\n",
       "    <tr>\n",
       "      <th>10</th>\n",
       "      <td>2009-01-29 16:19:48</td>\n",
       "      <td>4</td>\n",
       "      <td>Als een winkel 24 uur per dag en 365 dagen per...</td>\n",
       "      <td>10</td>\n",
       "      <td>- Alle categorieën</td>\n",
       "    </tr>\n",
       "  </tbody>\n",
       "</table>\n",
       "</div>"
      ],
      "text/plain": [
       "                   date userId  \\\n",
       "0                                \n",
       "1   2009-01-28 09:49:57      1   \n",
       "2   2009-01-29 09:32:04      1   \n",
       "3   2009-01-29 11:06:20      2   \n",
       "4   2009-01-29 12:37:05      1   \n",
       "5   2009-01-29 16:10:27      3   \n",
       "6   2009-01-29 16:14:38      6   \n",
       "7   2009-01-29 16:16:55      7   \n",
       "8   2009-01-29 16:17:33      4   \n",
       "9   2009-01-29 16:17:46      5   \n",
       "10  2009-01-29 16:19:48      4   \n",
       "\n",
       "                                             question  questionId  \\\n",
       "0                                                                   \n",
       "1   Kunnen we volgende week weer schaatsen op natu...           1   \n",
       "2   Wat is het lekkerste recept voor boerenkool? -...           2   \n",
       "3           Hoeveel kleuren heeft de regenboog? - nan           3   \n",
       "4   Wat is de symbolische betekenis van de kip die...           4   \n",
       "5   waar kan ik in amsterdam het best een dwerg ha...           5   \n",
       "6              Waarom zie je nooit babyduifjes? - nan           6   \n",
       "7   Hoe krijg je een weggelopen konijn (ontsnapt) ...           7   \n",
       "8           Wat is het synoniem voor synoniem ? - nan           8   \n",
       "9   wat s de reden dat vogels niet vastvriezen aan...           9   \n",
       "10  Als een winkel 24 uur per dag en 365 dagen per...          10   \n",
       "\n",
       "                              category  \n",
       "0                                       \n",
       "1    Sport, Spel & Recreatie - Sporten  \n",
       "2    Eten & Drinken - Koken & Recepten  \n",
       "3   Wetenschap - Natuur- en scheikunde  \n",
       "4    Kunst & Cultuur - Beeldende kunst  \n",
       "5             Huis & Tuin - Huisdieren  \n",
       "6                 Huis & Tuin - Overig  \n",
       "7            Alle categorieën - Overig  \n",
       "8            Alle categorieën - Overig  \n",
       "9                Wetenschap - Biologie  \n",
       "10                  - Alle categorieën  "
      ]
     },
     "execution_count": 17,
     "metadata": {},
     "output_type": "execute_result"
    }
   ],
   "source": [
    "# Adding the correct category names\n",
    "cdf=pd.read_csv('categories.csv',error_bad_lines=False, warn_bad_lines=False , header=None, \n",
    "                index_col=0, quotechar='\"', quoting=2)\n",
    "cdf.index=cdf.index.astype(int)\n",
    "cdf[1] = cdf[1].astype(int)\n",
    "cdf.columns = ['parent', 'name'] \n",
    "\n",
    "cdf['parent'] = cdf.apply(lambda x: cdf.iloc[int(x['parent'])-1]['name'], axis=1)\n",
    "cdf['parent'][1] = ' '  # Apply special case to root category\n",
    "\n",
    "qdf['category'] = qdf.apply(lambda x: str(cdf.loc[int(x['categoryId'])]['parent']) + ' - ' + str(cdf.loc[int(x['categoryId'])]['name']), axis=1)\n",
    "qdf = qdf.drop(['categoryId'], axis=1)\n",
    "qdf.head(10)"
   ]
  },
  {
   "cell_type": "code",
   "execution_count": 45,
   "metadata": {},
   "outputs": [
    {
     "name": "stdout",
     "output_type": "stream",
     "text": [
      "-73680\r"
     ]
    }
   ],
   "source": [
    "# Indexing questions in elasticsearch\n",
    "question_bulk = []\n",
    "for index, row in qdf.iterrows():\n",
    "    print(len(qdf) - index, end='\\r')\n",
    "    \n",
    "#     #question_bulk = add_answers(row['questionId'], adf, question_bulk)\n",
    "#     for index, row in adf[adf['questionId'] == row['questionId']].iterrows():\n",
    "#         question_bulk.append({'_type':'doc', \n",
    "#                      '_index':'goeievragen',\n",
    "#                      'answers.date':row['date'],\n",
    "#                      'answers.userId':row['userId'],\n",
    "#                      'answers.questionId':row['questionId'],\n",
    "#                      'answers.answer':row['answer'],\n",
    "#                      #'answers.thumbsDown':row['thumbsDown'],\n",
    "#                      #'answers.thumbsUp':row['thumbsUp'],\n",
    "#                      #'answers.bestAnswer':row['bestAnswer'],\n",
    "#                      'answers.answerId':row['answerId']})\n",
    "    \n",
    "    \n",
    "    question_bulk.append({'_type':'doc', \n",
    "                     '_index':'goeievragen',\n",
    "                     'date':row['date'],\n",
    "                     'userId':row['userId'],\n",
    "                     'category':row['category'],\n",
    "                     'question':row['question'],\n",
    "                     #'description':row['description'],\n",
    "                     'questionId':row['questionId']})\n"
   ]
  },
  {
   "cell_type": "code",
   "execution_count": 47,
   "metadata": {},
   "outputs": [
    {
     "data": {
      "text/plain": [
       "(396045, [])"
      ]
     },
     "execution_count": 47,
     "metadata": {},
     "output_type": "execute_result"
    }
   ],
   "source": [
    "helpers.bulk(es,tuple(question_bulk))"
   ]
  },
  {
   "cell_type": "code",
   "execution_count": 10,
   "metadata": {},
   "outputs": [
    {
     "name": "stdout",
     "output_type": "stream",
     "text": [
      "['1', '0', 'Alle categorieÃ«n']\n"
     ]
    }
   ],
   "source": [
    "with open('categories.csv', newline='') as f:\n",
    "    reader = csv.reader(f)\n",
    "    for i in range(1):\n",
    "        print(next(reader))"
   ]
  },
  {
   "cell_type": "code",
   "execution_count": 46,
   "metadata": {},
   "outputs": [
    {
     "data": {
      "text/plain": [
       "396045"
      ]
     },
     "execution_count": 46,
     "metadata": {},
     "output_type": "execute_result"
    }
   ],
   "source": [
    "len(question_bulk)"
   ]
  },
  {
   "cell_type": "code",
   "execution_count": 69,
   "metadata": {},
   "outputs": [
    {
     "name": "stdout",
     "output_type": "stream",
     "text": [
      "1761\r"
     ]
    },
    {
     "data": {
      "text/html": [
       "<div>\n",
       "<style>\n",
       "    .dataframe thead tr:only-child th {\n",
       "        text-align: right;\n",
       "    }\n",
       "\n",
       "    .dataframe thead th {\n",
       "        text-align: left;\n",
       "    }\n",
       "\n",
       "    .dataframe tbody tr th {\n",
       "        vertical-align: top;\n",
       "    }\n",
       "</style>\n",
       "<table border=\"1\" class=\"dataframe\">\n",
       "  <thead>\n",
       "    <tr style=\"text-align: right;\">\n",
       "      <th></th>\n",
       "      <th>date</th>\n",
       "      <th>userId</th>\n",
       "      <th>questionId</th>\n",
       "      <th>answer</th>\n",
       "      <th>thumbsDown</th>\n",
       "      <th>thumbsUp</th>\n",
       "      <th>bestAnswer</th>\n",
       "      <th>answerId</th>\n",
       "    </tr>\n",
       "  </thead>\n",
       "  <tbody>\n",
       "    <tr>\n",
       "      <th>1</th>\n",
       "      <td>2009-01-29 16:13:55</td>\n",
       "      <td>3</td>\n",
       "      <td>2</td>\n",
       "      <td>met gepureerde aardappels natuurlijk!!! Duhhh ...</td>\n",
       "      <td>57</td>\n",
       "      <td>3</td>\n",
       "      <td>0</td>\n",
       "      <td>1</td>\n",
       "    </tr>\n",
       "    <tr>\n",
       "      <th>2</th>\n",
       "      <td>2009-01-29 16:20:49</td>\n",
       "      <td>1</td>\n",
       "      <td>8</td>\n",
       "      <td>betekenisverwant, gelijkluidend</td>\n",
       "      <td>0</td>\n",
       "      <td>1</td>\n",
       "      <td>0</td>\n",
       "      <td>2</td>\n",
       "    </tr>\n",
       "    <tr>\n",
       "      <th>3</th>\n",
       "      <td>2009-01-29 16:28:42</td>\n",
       "      <td>8</td>\n",
       "      <td>3</td>\n",
       "      <td>Kleuren van de regenboog : ROGGBIV (rood, oran...</td>\n",
       "      <td>0</td>\n",
       "      <td>5</td>\n",
       "      <td>1</td>\n",
       "      <td>3</td>\n",
       "    </tr>\n",
       "    <tr>\n",
       "      <th>4</th>\n",
       "      <td>2009-01-29 16:31:29</td>\n",
       "      <td>4</td>\n",
       "      <td>4</td>\n",
       "      <td>De schutters op het schilderij heetten kloveni...</td>\n",
       "      <td>0</td>\n",
       "      <td>6</td>\n",
       "      <td>1</td>\n",
       "      <td>4</td>\n",
       "    </tr>\n",
       "    <tr>\n",
       "      <th>5</th>\n",
       "      <td>2009-01-29 16:33:09</td>\n",
       "      <td>6</td>\n",
       "      <td>11</td>\n",
       "      <td>Van de eerste genoemde dieren is er slachtafva...</td>\n",
       "      <td>0</td>\n",
       "      <td>3</td>\n",
       "      <td>0</td>\n",
       "      <td>5</td>\n",
       "    </tr>\n",
       "  </tbody>\n",
       "</table>\n",
       "</div>"
      ],
      "text/plain": [
       "                  date userId questionId  \\\n",
       "1  2009-01-29 16:13:55      3          2   \n",
       "2  2009-01-29 16:20:49      1          8   \n",
       "3  2009-01-29 16:28:42      8          3   \n",
       "4  2009-01-29 16:31:29      4          4   \n",
       "5  2009-01-29 16:33:09      6         11   \n",
       "\n",
       "                                              answer thumbsDown thumbsUp  \\\n",
       "1  met gepureerde aardappels natuurlijk!!! Duhhh ...         57        3   \n",
       "2                    betekenisverwant, gelijkluidend          0        1   \n",
       "3  Kleuren van de regenboog : ROGGBIV (rood, oran...          0        5   \n",
       "4  De schutters op het schilderij heetten kloveni...          0        6   \n",
       "5  Van de eerste genoemde dieren is er slachtafva...          0        3   \n",
       "\n",
       "  bestAnswer  answerId  \n",
       "1          0         1  \n",
       "2          0         2  \n",
       "3          1         3  \n",
       "4          1         4  \n",
       "5          0         5  "
      ]
     },
     "execution_count": 69,
     "metadata": {},
     "output_type": "execute_result"
    }
   ],
   "source": [
    "# Preprocessing answers\n",
    "chunksize = 10 ** 3\n",
    "first_item = 1\n",
    "colnames = range(8)\n",
    "count = 0\n",
    "for chunk in pd.read_csv('answers.csv',error_bad_lines=False, warn_bad_lines=False, header=None, \n",
    "                index_col=0, parse_dates=[1], quotechar='\"', quoting=2, #low_memory=False,\n",
    "                         chunksize=chunksize, names=colnames):\n",
    "    chunk = chunk.loc[chunk.index.dropna()]\n",
    "    chunk = chunk.dropna(subset=[4])\n",
    "    good_indexes = [key for key in chunk.index if re.search('[A-Za-z\\WÀ-ÿ]', str(key)) == None]\n",
    "    chunk = chunk.loc[good_indexes]\n",
    "    good_qids = [idx for idx, row in chunk.iterrows() if re.search('[A-Za-z\\WÀ-ÿ]', str(row[3])) == None]\n",
    "    chunk = chunk.loc[good_qids]\n",
    "    chunk.index=chunk.index.astype(int)\n",
    "    chunk.columns = ['date', 'userId', 'questionId', 'answer', 'thumbsDown', 'thumbsUp', 'bestAnswer']\n",
    "    chunk['answerId'] = chunk.index\n",
    "    chunk['date'] = chunk['date'][:10]\n",
    "    chunk = chunk.fillna(0)\n",
    "    if first_item == 1:\n",
    "        adf = chunk\n",
    "        first_item = 0\n",
    "    else:\n",
    "        adf = pd.concat([adf, chunk])\n",
    "    count+=1\n",
    "    print(count, end='\\r')\n",
    "\n",
    "adf.head()"
   ]
  },
  {
   "cell_type": "code",
   "execution_count": 68,
   "metadata": {},
   "outputs": [
    {
     "data": {
      "text/plain": [
       "'2009-01-29'"
      ]
     },
     "execution_count": 68,
     "metadata": {},
     "output_type": "execute_result"
    }
   ],
   "source": [
    "def add_answers(questionId, answer_df, question_bulk):\n",
    "    for index, row in answer_df[answer_df['questionId'] == questionId].iterrows():\n",
    "        question_bulk.append({'_type':'doc', \n",
    "                     '_index':'goeievragen',\n",
    "                     'answers.date':row['date'],\n",
    "                     'answers.userId':row['userId'],\n",
    "                     'answers.questionId':row['questionId'],\n",
    "                     'answers.answer':row['answer'],\n",
    "                     'answers.thumbsDown':row['thumbsDown'],\n",
    "                     'answers.thumbsUp':row['thumbsUp'],\n",
    "                     'answers.bestAnswer':row['bestAnswer'],\n",
    "                     'answers.answerId':row['answerId']})\n",
    "    return question_bulk\n",
    "\n",
    "adf.loc[1]['date'][:10]"
   ]
  },
  {
   "cell_type": "code",
   "execution_count": 48,
   "metadata": {},
   "outputs": [
    {
     "name": "stdout",
     "output_type": "stream",
     "text": [
      "0000000\r"
     ]
    }
   ],
   "source": [
    "# Indexing answers in elasticsearch\n",
    "answer_bulk = []\n",
    "size = len(adf)\n",
    "#qdf['json'] = qdf.apply(lambda x: x.to_json(), axis=1)\n",
    "for index, row in adf.iterrows():\n",
    "    answer_bulk.append({'_type':'doc', \n",
    "                     '_index':'goeievragen',\n",
    "                     'answers.date':row['date'],\n",
    "                     'answers.userId':row['userId'],\n",
    "                     'answers.questionId':row['questionId'],\n",
    "                     'answers.answer':row['answer'],\n",
    "                     'answers.thumbsDown':row['thumbsDown'],\n",
    "                     'answers.thumbsUp':row['thumbsUp'],\n",
    "                     'answers.bestAnswer':row['bestAnswer'],\n",
    "                     'answers.answerId':row['answerId']})\n",
    "    size-=1\n",
    "    print(size, end='\\r')"
   ]
  },
  {
   "cell_type": "code",
   "execution_count": 49,
   "metadata": {},
   "outputs": [
    {
     "data": {
      "text/plain": [
       "(1401726, [])"
      ]
     },
     "execution_count": 49,
     "metadata": {},
     "output_type": "execute_result"
    }
   ],
   "source": [
    "helpers.bulk(es,tuple(answer_bulk))"
   ]
  },
  {
   "cell_type": "code",
   "execution_count": null,
   "metadata": {
    "collapsed": true
   },
   "outputs": [],
   "source": [
    "# Indexing questions in elasticsearch\n",
    "question_bulk = []\n",
    "for index, row in qdf.iterrows():\n",
    "    question_bulk.append({'_type':'doc', \n",
    "                     '_index':'goeievragen',\n",
    "                     'date':row['date'],\n",
    "                     'userId':row['userId'],\n",
    "                     'category':row['category'],\n",
    "                     'question':row['question'],\n",
    "                     'description':row['description'],\n",
    "                     'questionId':row['questionId']})"
   ]
  },
  {
   "cell_type": "code",
   "execution_count": 153,
   "metadata": {},
   "outputs": [
    {
     "name": "stdout",
     "output_type": "stream",
     "text": [
      "Got 1575 Hits:\n",
      "Vraag:\n",
      "2011-08-25 10:50:01 74569: Banaan banaan\n",
      "Vraag:\n",
      "2011-08-21 16:49:52 74135: Banaan????\n",
      "Antwoord:\n",
      "2011-09-02 19:36:23 63404: Banaan banaan banaan, we gaan er tegenaan. jeeeeeeeejjj! :D\n",
      "Vraag:\n",
      "2011-06-05 18:05:20 53982: Waarom wordt de blauwe banaan de BLAUWE banaan genoemd?\n",
      "Vraag:\n",
      "2010-08-16 19:13:12 23878: Zal een rechte banaan net zo smaken als een kromme banaan?\n",
      "Antwoord:\n",
      "2009-08-25 20:05:10 6399: Banaan Banaan Banaan, we gaan er tegen aan\\\n",
      "Peer Peer Peer, we zijn zo sterk als een beer\\\n",
      "Citroen Citroen Citroen, sudosa-desto kampioen!!\n",
      "Vraag:\n",
      "2011-07-30 11:58:02 70660: Banaan invriezen\n",
      "Vraag:\n",
      "2011-11-13 17:01:08 84636: Banaan beignets?\n",
      "Antwoord:\n",
      "2012-08-21 13:11:58 53954: Banaan, banaan bindt namelijk en zou dus moeten zorgen voor vaste ontlasting.\n",
      "Vraag:\n",
      "2011-08-24 02:20:40 74459: Banaan of peer?\n"
     ]
    }
   ],
   "source": [
    "#res = es.search(index=\"goeievragen\", body={\"query\": {\"match\": {'*':'banaan'}}})\n",
    "res = es.search(index=\"goeievragen\", body={\"query\": {\"multi_match\" : { \"query\":    \"banaan\", \"fields\": [ \"question\", \"answer\" ] }}})\n",
    "print(\"Got %d Hits:\" % res['hits']['total'])\n",
    "for hit in res['hits']['hits']:\n",
    "    if 'question' in hit[\"_source\"]:\n",
    "        print('Vraag:')\n",
    "        print(\"%(date)s %(userId)s: %(question)s\" % hit[\"_source\"])\n",
    "    else:\n",
    "        print('Antwoord:')\n",
    "        print(\"%(date)s %(userId)s: %(answer)s\" % hit[\"_source\"])"
   ]
  },
  {
   "cell_type": "code",
   "execution_count": 74,
   "metadata": {},
   "outputs": [],
   "source": [
    "def match(term, category=False, jaar=None):\n",
    "    query={   \"query\": \n",
    "            { \"multi_match\" : \n",
    "            { \"query\": term, \n",
    "             \"fields\": [ \"question\", \"answer\", \"category\" ] \n",
    "    }}}\n",
    "    if category:\n",
    "        query={ \"query\": \n",
    "        {\"bool\": { \n",
    "            \"should\": [\n",
    "                { \"match\": { \"question\":   term        }}, \n",
    "                { \"match\": { \"answer\": term }}  \n",
    "      ],\n",
    "            \"filter\": [ { \"term\":  { \"category\": category }},\n",
    "                        { \"range\": { \"date\": { \"gte\": \"2015-01-01\" }}}]   \n",
    "    }}}\n",
    "    \n",
    "    res = es.search(index=\"goeievragen\", body=query)\n",
    "    print('Top ten results: ')\n",
    "    for hit in res['hits']['hits']:\n",
    "        print('-'*10)\n",
    "        if 'answer' in hit[\"_source\"]:\n",
    "            print(\"Antwoord: %(answer)s\" % hit[\"_source\"])\n",
    "        if 'question' in hit[\"_source\"]:\n",
    "            print(\"Categorie: %(category)s\" % hit[\"_source\"])\n",
    "            print(\"Vraag: %(question)s\" % hit[\"_source\"])\n",
    "        print(\"Datum: %(date)s\" % hit[\"_source\"])\n",
    "        print(\"Id: %(questionId)s\" % hit[\"_source\"])\n",
    "        \n",
    "def get_answers(questionId):\n",
    "    query={\"query\": {\"term\" : { \"questionId\": questionId }}}\n",
    "    res = es.search(index=\"goeievragen\", body=query)\n",
    "    for hit in res['hits']['hits']:\n",
    "        if 'answer' in hit[\"_source\"]:\n",
    "            print(\"Antwoord: %(answer)s\" % hit[\"_source\"])\n",
    "    "
   ]
  },
  {
   "cell_type": "code",
   "execution_count": 75,
   "metadata": {},
   "outputs": [
    {
     "name": "stdout",
     "output_type": "stream",
     "text": [
      "Top ten results: \n",
      "----------\n",
      "Categorie: Alle categorieën - Overig\n",
      "Vraag: Wie weet nog wat de oude tijd is is dat de zomer tijd of de winter tijd ? - nan\n",
      "Datum: 2009-12-30 18:42:35\n",
      "Id: 37236\n",
      "----------\n",
      "Categorie: Wetenschap - Overig\n",
      "Vraag: Hoe kan er tijd zijn, als die niet gemeten wordt? - Tijd is op zich toch een illusie? Wij hebben tijd, omdat wij hem meten. Als hij niet gemeten wordt, is er geen tijd en net daardoor alle tijd van de wereld. Toch?\n",
      "Datum: 2011-06-14 11:15:44\n",
      "Id: 198879\n",
      "----------\n",
      "Categorie: Wetenschap - Overig\n",
      "Vraag: wat is het tegenovergestelde van \\TIJD\\\" ? of is tijd de enige constante en is tijd iets dat altijd verstrijkt.....?\" - nan\n",
      "Datum: 2011-09-26 15:56:48\n",
      "Id: 244747\n",
      "----------\n",
      "Categorie: Wetenschap - Overig\n",
      "Vraag: Wat is tijd? - Wat is tijd volgens bergson\n",
      "Datum: 2009-03-26 15:21:40\n",
      "Id: 1882\n",
      "----------\n",
      "Categorie: Alle categorieën - Overig\n",
      "Vraag: Welke tijd bedoelen ze met lokale tijd ? - Als er iets is gebeurt ergens in een land spreken ze altijd over lokale tijd.\\\n",
      "Bedoelen ze dan onze tijd of hebben ze het over de tijd in die andere land waar iets gebeurt is.\n",
      "Datum: 2010-01-28 22:39:34\n",
      "Id: 41931\n",
      "----------\n",
      "Categorie: Sporten - Formule 1\n",
      "Vraag: Hoe kan de beste tijd 1.24.374 zijn, de tweede tijd 1.25.485 en de derde tijd 1.23.638? - Zo'n artikel over wie de beste tijd heeft gereden heeft enkel zin als de data kloppen.\n",
      "Datum: 2011-02-19 11:04:40\n",
      "Id: 145407\n",
      "----------\n",
      "Categorie: Wetenschap - Overig\n",
      "Vraag: Bestaat TIJD? - Ik denk dat tijd niet bestaat. Een mensenleven en zelfs de mensheid is eindig. Tijd is oneindig. Dus na de mensheid zal het begrip tijd verdwijnen toch?\\\n",
      "\\\n",
      "Voor de duidelijkheid..In mijn vraag bedoel ik dat mensen het begrip tijd hebben verzonnen. En ze hebben geconcludeerd dat tijd oneindig moet zijn. Maar als de mens ophoudt te bestaan. Wie zal er dan nog roepen dat tijd bestaat?\n",
      "Datum: 2009-04-24 22:30:28\n",
      "Id: 7078\n",
      "----------\n",
      "Categorie: Alle categorieën - Financiën & Werk\n",
      "Vraag: tijd voor tijd uren,  hoe zit het daarmee? - Ik werk in de logistiek,  dus regematig overwerk op basis van tijd voor tijd , opnemen van vrije tijd is vaak geen optie,  in het verleden konden we die uren omzetten in aandelen via de spaarloonregeling , dus belastingvrij.  \\\n",
      "Nu die spaarloonregeling is afgeschaft wil de werkgever periodiek die tijd voor tijd uren gaan uitbetalen,   maar dat is dus wel behoorlijk extra belast.\\\n",
      "kan dit zomaar?  of moet hij gewoon vrije tijd garanderen voor die uren.\n",
      "Datum: 2012-03-20 18:37:51\n",
      "Id: 314288\n",
      "----------\n",
      "Categorie: Alle categorieën - Financiën & Werk\n",
      "Vraag: is er een tijd voor tijd regeling binnen het onderwijs? - nan\n",
      "Datum: 2011-03-23 13:12:19\n",
      "Id: 161315\n",
      "----------\n",
      "Categorie: Wetenschap - Overig\n",
      "Vraag: Het is niet de big bang dat tijd heeft gemaakt.Het is logisch dat er tijd is,omdat naarmate iets langer dan een moment bestaat er dan tijd verstrijkt - Door de big bang ontstond heelal en (tijd).\\\n",
      "Maar het is toch logisch dat (tijd) bestaat, omdat als iets langer dan een moment bestaat, het dan tijd in beslag neemt.\n",
      "Datum: 2010-11-18 01:50:30\n",
      "Id: 106637\n"
     ]
    }
   ],
   "source": [
    "match('tijd')\n",
    "#match('tijd', 'wetenschap')\n",
    "#get_answers(7078)"
   ]
  },
  {
   "cell_type": "code",
   "execution_count": 61,
   "metadata": {},
   "outputs": [
    {
     "name": "stderr",
     "output_type": "stream",
     "text": [
      "GET http://localhost:9200/goeievragen/question/1 [status:404 request:0.003s]\n"
     ]
    },
    {
     "ename": "NotFoundError",
     "evalue": "NotFoundError(404, '{\"_index\":\"goeievragen\",\"_type\":\"question\",\"_id\":\"1\",\"found\":false}')",
     "output_type": "error",
     "traceback": [
      "\u001b[1;31m---------------------------------------------------------------------------\u001b[0m",
      "\u001b[1;31mNotFoundError\u001b[0m                             Traceback (most recent call last)",
      "\u001b[1;32m<ipython-input-61-0eda52a98a2e>\u001b[0m in \u001b[0;36m<module>\u001b[1;34m()\u001b[0m\n\u001b[1;32m----> 1\u001b[1;33m \u001b[0mres\u001b[0m \u001b[1;33m=\u001b[0m \u001b[0mes\u001b[0m\u001b[1;33m.\u001b[0m\u001b[0mget\u001b[0m\u001b[1;33m(\u001b[0m\u001b[0mindex\u001b[0m\u001b[1;33m=\u001b[0m\u001b[1;34m\"goeievragen\"\u001b[0m\u001b[1;33m,\u001b[0m \u001b[0mdoc_type\u001b[0m\u001b[1;33m=\u001b[0m\u001b[1;34m'question'\u001b[0m\u001b[1;33m,\u001b[0m \u001b[0mid\u001b[0m\u001b[1;33m=\u001b[0m\u001b[1;36m1\u001b[0m\u001b[1;33m)\u001b[0m\u001b[1;33m\u001b[0m\u001b[0m\n\u001b[0m\u001b[0;32m      2\u001b[0m \u001b[0mprint\u001b[0m\u001b[1;33m(\u001b[0m\u001b[0mres\u001b[0m\u001b[1;33m[\u001b[0m\u001b[1;34m'_source'\u001b[0m\u001b[1;33m]\u001b[0m\u001b[1;33m)\u001b[0m\u001b[1;33m\u001b[0m\u001b[0m\n\u001b[0;32m      3\u001b[0m \u001b[1;33m\u001b[0m\u001b[0m\n\u001b[0;32m      4\u001b[0m \u001b[0mes\u001b[0m\u001b[1;33m.\u001b[0m\u001b[0mindices\u001b[0m\u001b[1;33m.\u001b[0m\u001b[0mrefresh\u001b[0m\u001b[1;33m(\u001b[0m\u001b[0mindex\u001b[0m\u001b[1;33m=\u001b[0m\u001b[1;34m\"goeievragen\"\u001b[0m\u001b[1;33m)\u001b[0m\u001b[1;33m\u001b[0m\u001b[0m\n\u001b[0;32m      5\u001b[0m \u001b[1;33m\u001b[0m\u001b[0m\n",
      "\u001b[1;32m~\\Anaconda3\\lib\\site-packages\\elasticsearch\\client\\utils.py\u001b[0m in \u001b[0;36m_wrapped\u001b[1;34m(*args, **kwargs)\u001b[0m\n\u001b[0;32m     74\u001b[0m                 \u001b[1;32mif\u001b[0m \u001b[0mp\u001b[0m \u001b[1;32min\u001b[0m \u001b[0mkwargs\u001b[0m\u001b[1;33m:\u001b[0m\u001b[1;33m\u001b[0m\u001b[0m\n\u001b[0;32m     75\u001b[0m                     \u001b[0mparams\u001b[0m\u001b[1;33m[\u001b[0m\u001b[0mp\u001b[0m\u001b[1;33m]\u001b[0m \u001b[1;33m=\u001b[0m \u001b[0mkwargs\u001b[0m\u001b[1;33m.\u001b[0m\u001b[0mpop\u001b[0m\u001b[1;33m(\u001b[0m\u001b[0mp\u001b[0m\u001b[1;33m)\u001b[0m\u001b[1;33m\u001b[0m\u001b[0m\n\u001b[1;32m---> 76\u001b[1;33m             \u001b[1;32mreturn\u001b[0m \u001b[0mfunc\u001b[0m\u001b[1;33m(\u001b[0m\u001b[1;33m*\u001b[0m\u001b[0margs\u001b[0m\u001b[1;33m,\u001b[0m \u001b[0mparams\u001b[0m\u001b[1;33m=\u001b[0m\u001b[0mparams\u001b[0m\u001b[1;33m,\u001b[0m \u001b[1;33m**\u001b[0m\u001b[0mkwargs\u001b[0m\u001b[1;33m)\u001b[0m\u001b[1;33m\u001b[0m\u001b[0m\n\u001b[0m\u001b[0;32m     77\u001b[0m         \u001b[1;32mreturn\u001b[0m \u001b[0m_wrapped\u001b[0m\u001b[1;33m\u001b[0m\u001b[0m\n\u001b[0;32m     78\u001b[0m     \u001b[1;32mreturn\u001b[0m \u001b[0m_wrapper\u001b[0m\u001b[1;33m\u001b[0m\u001b[0m\n",
      "\u001b[1;32m~\\Anaconda3\\lib\\site-packages\\elasticsearch\\client\\__init__.py\u001b[0m in \u001b[0;36mget\u001b[1;34m(self, index, doc_type, id, params)\u001b[0m\n\u001b[0;32m    428\u001b[0m                 \u001b[1;32mraise\u001b[0m \u001b[0mValueError\u001b[0m\u001b[1;33m(\u001b[0m\u001b[1;34m\"Empty value passed for a required argument.\"\u001b[0m\u001b[1;33m)\u001b[0m\u001b[1;33m\u001b[0m\u001b[0m\n\u001b[0;32m    429\u001b[0m         return self.transport.perform_request('GET', _make_path(index,\n\u001b[1;32m--> 430\u001b[1;33m             doc_type, id), params=params)\n\u001b[0m\u001b[0;32m    431\u001b[0m \u001b[1;33m\u001b[0m\u001b[0m\n\u001b[0;32m    432\u001b[0m     @query_params('_source', '_source_exclude', '_source_include', 'parent',\n",
      "\u001b[1;32m~\\Anaconda3\\lib\\site-packages\\elasticsearch\\transport.py\u001b[0m in \u001b[0;36mperform_request\u001b[1;34m(self, method, url, headers, params, body)\u001b[0m\n\u001b[0;32m    316\u001b[0m                 \u001b[0mdelay\u001b[0m \u001b[1;33m=\u001b[0m \u001b[1;36m2\u001b[0m\u001b[1;33m**\u001b[0m\u001b[0mattempt\u001b[0m \u001b[1;33m-\u001b[0m \u001b[1;36m1\u001b[0m\u001b[1;33m\u001b[0m\u001b[0m\n\u001b[0;32m    317\u001b[0m                 \u001b[0mtime\u001b[0m\u001b[1;33m.\u001b[0m\u001b[0msleep\u001b[0m\u001b[1;33m(\u001b[0m\u001b[0mdelay\u001b[0m\u001b[1;33m)\u001b[0m\u001b[1;33m\u001b[0m\u001b[0m\n\u001b[1;32m--> 318\u001b[1;33m                 \u001b[0mstatus\u001b[0m\u001b[1;33m,\u001b[0m \u001b[0mheaders_response\u001b[0m\u001b[1;33m,\u001b[0m \u001b[0mdata\u001b[0m \u001b[1;33m=\u001b[0m \u001b[0mconnection\u001b[0m\u001b[1;33m.\u001b[0m\u001b[0mperform_request\u001b[0m\u001b[1;33m(\u001b[0m\u001b[0mmethod\u001b[0m\u001b[1;33m,\u001b[0m \u001b[0murl\u001b[0m\u001b[1;33m,\u001b[0m \u001b[0mparams\u001b[0m\u001b[1;33m,\u001b[0m \u001b[0mbody\u001b[0m\u001b[1;33m,\u001b[0m \u001b[0mheaders\u001b[0m\u001b[1;33m=\u001b[0m\u001b[0mheaders\u001b[0m\u001b[1;33m,\u001b[0m \u001b[0mignore\u001b[0m\u001b[1;33m=\u001b[0m\u001b[0mignore\u001b[0m\u001b[1;33m,\u001b[0m \u001b[0mtimeout\u001b[0m\u001b[1;33m=\u001b[0m\u001b[0mtimeout\u001b[0m\u001b[1;33m)\u001b[0m\u001b[1;33m\u001b[0m\u001b[0m\n\u001b[0m\u001b[0;32m    319\u001b[0m \u001b[1;33m\u001b[0m\u001b[0m\n\u001b[0;32m    320\u001b[0m             \u001b[1;32mexcept\u001b[0m \u001b[0mTransportError\u001b[0m \u001b[1;32mas\u001b[0m \u001b[0me\u001b[0m\u001b[1;33m:\u001b[0m\u001b[1;33m\u001b[0m\u001b[0m\n",
      "\u001b[1;32m~\\Anaconda3\\lib\\site-packages\\elasticsearch\\connection\\http_urllib3.py\u001b[0m in \u001b[0;36mperform_request\u001b[1;34m(self, method, url, params, body, timeout, ignore, headers)\u001b[0m\n\u001b[0;32m    184\u001b[0m         \u001b[1;32mif\u001b[0m \u001b[1;32mnot\u001b[0m \u001b[1;33m(\u001b[0m\u001b[1;36m200\u001b[0m \u001b[1;33m<=\u001b[0m \u001b[0mresponse\u001b[0m\u001b[1;33m.\u001b[0m\u001b[0mstatus\u001b[0m \u001b[1;33m<\u001b[0m \u001b[1;36m300\u001b[0m\u001b[1;33m)\u001b[0m \u001b[1;32mand\u001b[0m \u001b[0mresponse\u001b[0m\u001b[1;33m.\u001b[0m\u001b[0mstatus\u001b[0m \u001b[1;32mnot\u001b[0m \u001b[1;32min\u001b[0m \u001b[0mignore\u001b[0m\u001b[1;33m:\u001b[0m\u001b[1;33m\u001b[0m\u001b[0m\n\u001b[0;32m    185\u001b[0m             \u001b[0mself\u001b[0m\u001b[1;33m.\u001b[0m\u001b[0mlog_request_fail\u001b[0m\u001b[1;33m(\u001b[0m\u001b[0mmethod\u001b[0m\u001b[1;33m,\u001b[0m \u001b[0mfull_url\u001b[0m\u001b[1;33m,\u001b[0m \u001b[0murl\u001b[0m\u001b[1;33m,\u001b[0m \u001b[0mbody\u001b[0m\u001b[1;33m,\u001b[0m \u001b[0mduration\u001b[0m\u001b[1;33m,\u001b[0m \u001b[0mresponse\u001b[0m\u001b[1;33m.\u001b[0m\u001b[0mstatus\u001b[0m\u001b[1;33m,\u001b[0m \u001b[0mraw_data\u001b[0m\u001b[1;33m)\u001b[0m\u001b[1;33m\u001b[0m\u001b[0m\n\u001b[1;32m--> 186\u001b[1;33m             \u001b[0mself\u001b[0m\u001b[1;33m.\u001b[0m\u001b[0m_raise_error\u001b[0m\u001b[1;33m(\u001b[0m\u001b[0mresponse\u001b[0m\u001b[1;33m.\u001b[0m\u001b[0mstatus\u001b[0m\u001b[1;33m,\u001b[0m \u001b[0mraw_data\u001b[0m\u001b[1;33m)\u001b[0m\u001b[1;33m\u001b[0m\u001b[0m\n\u001b[0m\u001b[0;32m    187\u001b[0m \u001b[1;33m\u001b[0m\u001b[0m\n\u001b[0;32m    188\u001b[0m         self.log_request_success(method, full_url, url, body, response.status,\n",
      "\u001b[1;32m~\\Anaconda3\\lib\\site-packages\\elasticsearch\\connection\\base.py\u001b[0m in \u001b[0;36m_raise_error\u001b[1;34m(self, status_code, raw_data)\u001b[0m\n\u001b[0;32m    123\u001b[0m             \u001b[0mlogger\u001b[0m\u001b[1;33m.\u001b[0m\u001b[0mwarning\u001b[0m\u001b[1;33m(\u001b[0m\u001b[1;34m'Undecodable raw error response from server: %s'\u001b[0m\u001b[1;33m,\u001b[0m \u001b[0merr\u001b[0m\u001b[1;33m)\u001b[0m\u001b[1;33m\u001b[0m\u001b[0m\n\u001b[0;32m    124\u001b[0m \u001b[1;33m\u001b[0m\u001b[0m\n\u001b[1;32m--> 125\u001b[1;33m         \u001b[1;32mraise\u001b[0m \u001b[0mHTTP_EXCEPTIONS\u001b[0m\u001b[1;33m.\u001b[0m\u001b[0mget\u001b[0m\u001b[1;33m(\u001b[0m\u001b[0mstatus_code\u001b[0m\u001b[1;33m,\u001b[0m \u001b[0mTransportError\u001b[0m\u001b[1;33m)\u001b[0m\u001b[1;33m(\u001b[0m\u001b[0mstatus_code\u001b[0m\u001b[1;33m,\u001b[0m \u001b[0merror_message\u001b[0m\u001b[1;33m,\u001b[0m \u001b[0madditional_info\u001b[0m\u001b[1;33m)\u001b[0m\u001b[1;33m\u001b[0m\u001b[0m\n\u001b[0m\u001b[0;32m    126\u001b[0m \u001b[1;33m\u001b[0m\u001b[0m\n\u001b[0;32m    127\u001b[0m \u001b[1;33m\u001b[0m\u001b[0m\n",
      "\u001b[1;31mNotFoundError\u001b[0m: NotFoundError(404, '{\"_index\":\"goeievragen\",\"_type\":\"question\",\"_id\":\"1\",\"found\":false}')"
     ]
    }
   ],
   "source": [
    "res = es.get(index=\"goeievragen\", doc_type='question', id=1)\n",
    "print(res['_source'])\n",
    "\n",
    "es.indices.refresh(index=\"goeievragen\")\n",
    "\n",
    "res = es.search(index=\"goeievragen\", body={\"query\": {\"match_all\": {}}})\n",
    "print(\"Got %d Hits:\" % res['hits']['total'])\n",
    "for hit in res['hits']['hits']:\n",
    "    print(\"%(date)s %(userId)s: %(question)s\" % hit[\"_source\"])"
   ]
  }
 ],
 "metadata": {
  "kernelspec": {
   "display_name": "Python 3",
   "language": "python",
   "name": "python3"
  },
  "language_info": {
   "codemirror_mode": {
    "name": "ipython",
    "version": 3
   },
   "file_extension": ".py",
   "mimetype": "text/x-python",
   "name": "python",
   "nbconvert_exporter": "python",
   "pygments_lexer": "ipython3",
   "version": "3.6.3"
  }
 },
 "nbformat": 4,
 "nbformat_minor": 2
}
